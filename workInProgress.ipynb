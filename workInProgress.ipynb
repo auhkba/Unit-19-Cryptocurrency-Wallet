{
 "cells": [
  {
   "cell_type": "code",
   "execution_count": 26,
   "id": "e20db5e1-e564-4d9d-b54c-d641ee9d1353",
   "metadata": {},
   "outputs": [],
   "source": [
    "import os\n",
    "import requests\n",
    "from dotenv import load_dotenv\n",
    "\n",
    "load_dotenv()\n",
    "from bip44 import Wallet\n",
    "from web3 import Account\n",
    "from web3 import middleware\n",
    "from web3.gas_strategies.time_based import medium_gas_price_strategy"
   ]
  },
  {
   "cell_type": "code",
   "execution_count": 27,
   "id": "30062bc9-8022-4cfd-9579-86d180acd4a0",
   "metadata": {},
   "outputs": [],
   "source": [
    "def generate_account():\n",
    "    \"\"\"Create a digital wallet and Ethereum account from a mnemonic seed phrase.\"\"\"\n",
    "    # Fetch mnemonic from environment variable.\n",
    "    mnemonic = os.getenv(\"MNEMONIC\")\n",
    "\n",
    "    # Create Wallet Object\n",
    "    wallet = Wallet(mnemonic)\n",
    "\n",
    "    # Derive Ethereum Private Key\n",
    "    private, public = wallet.derive_account(\"eth\")\n",
    "\n",
    "    # Convert private key into an Ethereum account\n",
    "    account = Account.privateKeyToAccount(private)\n",
    "\n",
    "    return account\n",
    "\n",
    "#from web3 import Web3\n",
    "#w3 = Web3(Web3.HTTPProvider(\"HTTP://127.0.0.1:7545\"))\n",
    "#account = generate_account()\n",
    "#account.address"
   ]
  },
  {
   "cell_type": "code",
   "execution_count": 28,
   "id": "c941e9e9-4107-406f-a20d-be8250411f09",
   "metadata": {},
   "outputs": [],
   "source": [
    "def get_balance(w3, address):\n",
    "    \"\"\"Using an Ethereum account address access the balance of Ether\"\"\"\n",
    "    # Get balance of address in Wei\n",
    "    wei_balance = w3.eth.get_balance(address)\n",
    "\n",
    "    # Convert Wei value to ether\n",
    "    ether = w3.fromWei(wei_balance, \"ether\")\n",
    "\n",
    "    # Return the value in ether\n",
    "    return ether"
   ]
  },
  {
   "cell_type": "code",
   "execution_count": 29,
   "id": "8225b8b0-b0b0-4d54-94c0-6b0495edeac4",
   "metadata": {},
   "outputs": [],
   "source": [
    "def send_transaction(w3, account, to, wage):\n",
    "    \"\"\"Send an authorized transaction to the Ganache blockchain.\"\"\"\n",
    "    # Set gas price strategy\n",
    "    w3.eth.setGasPriceStrategy(medium_gas_price_strategy)\n",
    "\n",
    "    # Convert eth amount to Wei\n",
    "    value = w3.toWei(wage, \"ether\")\n",
    "\n",
    "    # Calculate gas estimate\n",
    "    gasEstimate = w3.eth.estimateGas(\n",
    "        {\"to\": to, \"from\": account.address, \"value\": value}\n",
    "    )\n",
    "\n",
    "    # Construct a raw transaction\n",
    "    raw_tx = {\n",
    "        \"to\": to,\n",
    "        \"from\": account.address,\n",
    "        \"value\": value,\n",
    "        \"gas\": gasEstimate,\n",
    "        \"gasPrice\": 0,\n",
    "        \"nonce\": w3.eth.getTransactionCount(account.address),\n",
    "    }\n",
    "\n",
    "    # Sign the raw transaction with ethereum account\n",
    "    signed_tx = account.signTransaction(raw_tx)\n",
    "\n",
    "    # Send the signed transactions\n",
    "    return w3.eth.sendRawTransaction(signed_tx.rawTransaction)"
   ]
  },
  {
   "cell_type": "code",
   "execution_count": 30,
   "id": "4d39effe-9cd4-4804-8610-d5417b9a8989",
   "metadata": {},
   "outputs": [],
   "source": [
    "\n",
    "from dataclasses import dataclass\n",
    "from typing import Any, List\n",
    "from web3 import Web3\n",
    "\n",
    "w3 = Web3(Web3.HTTPProvider(\"HTTP://127.0.0.1:7545\"))"
   ]
  },
  {
   "cell_type": "code",
   "execution_count": 31,
   "id": "5ee0cd6e-de47-42e3-9cea-c23655b22e3c",
   "metadata": {},
   "outputs": [],
   "source": [
    "candidate_database = {\n",
    "    \"Lane\": [\n",
    "        \"Lane\",\n",
    "        \"0xaC8eB8B2ed5C4a0fC41a84Ee4950F417f67029F0\",\n",
    "        \"4.3\",\n",
    "        0.20,\n",
    "        \"Images/lane.jpeg\",\n",
    "    ],\n",
    "    \"Ash\": [\n",
    "        \"Ash\",\n",
    "        \"0x2422858F9C4480c2724A309D58Ffd7Ac8bF65396\",\n",
    "        \"5.0\",\n",
    "        0.33,\n",
    "        \"Images/ash.jpeg\",\n",
    "    ],\n",
    "    \"Jo\": [\n",
    "        \"Jo\",\n",
    "        \"0x8fD00f170FDf3772C5ebdCD90bF257316c69BA45\",\n",
    "        \"4.7\",\n",
    "        0.19,\n",
    "        \"Images/jo.jpeg\",\n",
    "    ],\n",
    "    \"Kendall\": [\n",
    "        \"Kendall\",\n",
    "        \"0x8fD00f170FDf3772C5ebdCD90bF257316c69BA45\",\n",
    "        \"4.1\",\n",
    "        0.16,\n",
    "        \"Images/kendall.jpeg\",\n",
    "    ],\n",
    "}\n",
    "\n",
    "# A list of the KryptoJobs2Go candidates first names\n",
    "people = [\"Lane\", \"Ash\", \"Jo\", \"Kendall\"]"
   ]
  },
  {
   "cell_type": "code",
   "execution_count": 32,
   "id": "61bd075b-e19c-4e9d-95cd-d12ecdcf7b42",
   "metadata": {},
   "outputs": [],
   "source": [
    "def get_people():\n",
    "    \"\"\"Display the database of KryptoJobs2Go candidate information.\"\"\"\n",
    "    db_list = list(candidate_database.values())\n",
    "\n",
    "    for number in range(len(people)):\n",
    "        #st.image(db_list[number][4], width=200)\n",
    "        print(\"Name: \", db_list[number][0])\n",
    "        print(\"Ethereum Account Address: \", db_list[number][1])\n",
    "        print(\"KryptoJobs2Go Rating: \", db_list[number][2])\n",
    "        print(\"Hourly Rate per Ether: \", db_list[number][3], \"eth\")\n",
    "        print(\" \\n\")"
   ]
  },
  {
   "cell_type": "code",
   "execution_count": 33,
   "id": "3303005e-9ec3-4665-bf8c-9391ba21ad7d",
   "metadata": {},
   "outputs": [
    {
     "data": {
      "text/plain": [
       "'0xb8Cd5A661f99C6819a80c569c9030292F24d3234'"
      ]
     },
     "execution_count": 33,
     "metadata": {},
     "output_type": "execute_result"
    }
   ],
   "source": [
    "accout = generate_account()\n",
    "account.address"
   ]
  },
  {
   "cell_type": "code",
   "execution_count": 34,
   "id": "414390ab-bcd9-40b0-8f8f-10eb1c636134",
   "metadata": {},
   "outputs": [
    {
     "data": {
      "text/plain": [
       "Decimal('100')"
      ]
     },
     "execution_count": 34,
     "metadata": {},
     "output_type": "execute_result"
    }
   ],
   "source": [
    "get_balance(w3, account.address)"
   ]
  },
  {
   "cell_type": "code",
   "execution_count": 35,
   "id": "8ef0e735-5fa8-4046-be84-f1c71f6ec9ae",
   "metadata": {},
   "outputs": [
    {
     "data": {
      "text/plain": [
       "'Ash'"
      ]
     },
     "execution_count": 35,
     "metadata": {},
     "output_type": "execute_result"
    }
   ],
   "source": [
    "# Create a select box to chose a FinTech Hire candidate\n",
    "person = \"Ash\"\n",
    "\n",
    "# Create a input field to record the number of hours the candidate worked\n",
    "hours = 2\n",
    "\n",
    "# Identify the FinTech Hire candidate\n",
    "candidate = candidate_database[person][0]\n",
    "\n",
    "# Write the KryptoJobs2Go candidate's name to the sidebar\n",
    "candidate"
   ]
  },
  {
   "cell_type": "code",
   "execution_count": 36,
   "id": "28d1c52e-6493-41b6-9652-0a4067bd1b4b",
   "metadata": {},
   "outputs": [
    {
     "data": {
      "text/plain": [
       "0.33"
      ]
     },
     "execution_count": 36,
     "metadata": {},
     "output_type": "execute_result"
    }
   ],
   "source": [
    "# Identify the KryptoJobs2Go candidate's hourly rate\n",
    "hourly_rate = candidate_database[person][3]\n",
    "\n",
    "# Write the inTech Finder candidate's hourly rate to the sidebar\n",
    "hourly_rate"
   ]
  },
  {
   "cell_type": "code",
   "execution_count": 37,
   "id": "1cb21196-554b-434e-9be8-2cd1e1967a8b",
   "metadata": {},
   "outputs": [
    {
     "data": {
      "text/plain": [
       "'0x2422858F9C4480c2724A309D58Ffd7Ac8bF65396'"
      ]
     },
     "execution_count": 37,
     "metadata": {},
     "output_type": "execute_result"
    }
   ],
   "source": [
    "# Identify the KryptoJobs2Go candidate's Ethereum Address\n",
    "candidate_address = candidate_database[person][1]\n",
    "\n",
    "# Write the inTech Finder candidate's Ethereum Address to the sidebar\n",
    "candidate_address"
   ]
  },
  {
   "cell_type": "code",
   "execution_count": 38,
   "id": "1683c50e-16d9-4791-a61e-7277331003ca",
   "metadata": {},
   "outputs": [
    {
     "name": "stdout",
     "output_type": "stream",
     "text": [
      "Wage 0.66\n"
     ]
    }
   ],
   "source": [
    "wage = hourly_rate * hours\n",
    "print(\"Wage\", wage)"
   ]
  },
  {
   "cell_type": "code",
   "execution_count": 43,
   "id": "07cc8754-6bd8-4e1d-9f70-bbf1b9c5a1c7",
   "metadata": {},
   "outputs": [
    {
     "data": {
      "text/plain": [
       "HexBytes('0x31c014a1bcb0b8277e248dbb81a812f19cd9943fdae9929fd52b5780705655c6')"
      ]
     },
     "metadata": {},
     "output_type": "display_data"
    }
   ],
   "source": [
    "transaction_hash = send_transaction(w3, account, candidate_address, wage)\n",
    "display(transaction_hash)"
   ]
  },
  {
   "cell_type": "code",
   "execution_count": 41,
   "id": "c4bd489d-8b7e-4620-a8b7-df8965054dcc",
   "metadata": {},
   "outputs": [
    {
     "name": "stdout",
     "output_type": "stream",
     "text": [
      "Name:  Lane\n",
      "Ethereum Account Address:  0xaC8eB8B2ed5C4a0fC41a84Ee4950F417f67029F0\n",
      "KryptoJobs2Go Rating:  4.3\n",
      "Hourly Rate per Ether:  0.2 eth\n",
      " \n",
      "\n",
      "Name:  Ash\n",
      "Ethereum Account Address:  0x2422858F9C4480c2724A309D58Ffd7Ac8bF65396\n",
      "KryptoJobs2Go Rating:  5.0\n",
      "Hourly Rate per Ether:  0.33 eth\n",
      " \n",
      "\n",
      "Name:  Jo\n",
      "Ethereum Account Address:  0x8fD00f170FDf3772C5ebdCD90bF257316c69BA45\n",
      "KryptoJobs2Go Rating:  4.7\n",
      "Hourly Rate per Ether:  0.19 eth\n",
      " \n",
      "\n",
      "Name:  Kendall\n",
      "Ethereum Account Address:  0x8fD00f170FDf3772C5ebdCD90bF257316c69BA45\n",
      "KryptoJobs2Go Rating:  4.1\n",
      "Hourly Rate per Ether:  0.16 eth\n",
      " \n",
      "\n"
     ]
    }
   ],
   "source": [
    "# The function that starts the Streamlit application\n",
    "# Writes KryptoJobs2Go candidates to the Streamlit page\n",
    "get_people()"
   ]
  },
  {
   "cell_type": "code",
   "execution_count": null,
   "id": "b828837e-90a7-417c-ac40-a5c9218e1fcd",
   "metadata": {},
   "outputs": [],
   "source": [
    "################################################################################\n",
    "# Step 3: Inspect the Transaction\n",
    "\n",
    "# Send a test transaction by using the application’s web interface, and then\n",
    "# look up the resulting transaction hash in Ganache.\n",
    "\n",
    "# Complete the following steps:\n",
    "\n",
    "# 1. From your terminal, navigate to the project folder that contains\n",
    "# your `.env` file and the `krypto_jobs.py` and `crypto_wallet.py` files.\n",
    "# Be sure to activate your Conda `dev` environment if it is not already active.\n",
    "\n",
    "# 2. To launch the Streamlit application,\n",
    "# type `streamlit run krypto_jobs.py`.\n",
    "\n",
    "# 3. On the resulting webpage, select a candidate that you would like to hire\n",
    "# from the appropriate drop-down menu. Then, enter the number of hours that you\n",
    "# would like to hire them for. (Remember, you do not have a lot of ether in\n",
    "# your account, so you cannot hire them for long!)\n",
    "\n",
    "# 4 Click the Send Transaction button to sign and send the transaction with\n",
    "# your Ethereum account information. If the transaction is successfully\n",
    "# communicated to Ganache, validated, and added to a block,\n",
    "# a resulting transaction hash code will be written to the Streamlit\n",
    "# application sidebar.\n",
    "\n",
    "# 5. Navigate to the Ganache accounts tab and locate your account (index 0).\n",
    "# * Take a screenshot of the address, balance, and transaction (TX) count.\n",
    "# Save this screenshot to the README.md file of your GitHub repository for\n",
    "#  this Challenge assignment.\n",
    "\n",
    "# 6. Navigate to the Ganache transactions tab and locate the transaction.\n",
    "# * Click the transaction and take a screenshot of it.\n",
    "# Save this screenshot to the README.md file of your GitHub repository for\n",
    "#  this Challenge assignment."
   ]
  }
 ],
 "metadata": {
  "kernelspec": {
   "display_name": "Python 3 (ipykernel)",
   "language": "python",
   "name": "python3"
  },
  "language_info": {
   "codemirror_mode": {
    "name": "ipython",
    "version": 3
   },
   "file_extension": ".py",
   "mimetype": "text/x-python",
   "name": "python",
   "nbconvert_exporter": "python",
   "pygments_lexer": "ipython3",
   "version": "3.7.13"
  }
 },
 "nbformat": 4,
 "nbformat_minor": 5
}
